{
 "cells": [
  {
   "cell_type": "code",
   "execution_count": 1,
   "metadata": {},
   "outputs": [],
   "source": [
    "import cv2\n",
    "import numpy as np\n",
    "\n",
    "cap = cv2.VideoCapture(0)\n",
    "back=cv2.imread('./background.jpg')\n",
    "\n",
    "while cap.isOpened():\n",
    "    ret,frame=cap.read()\n",
    "    \n",
    "    hsv=cv2.cvtColor(frame,cv2.COLOR_BGR2HSV)\n",
    "    #cv2.imshow(\"hsv\",hsv)\n",
    "    \n",
    "    red=np.uint8([[[0,255,255]]])\n",
    "    hsv_red=cv2.cvtColor(red,cv2.COLOR_BGR2HSV)\n",
    "    \n",
    "    l_red=np.array([0,100,100])\n",
    "    u_red=np.array([10,255,255])\n",
    "    \n",
    "    mask=cv2.inRange(hsv,l_red,u_red)\n",
    "    #cv2.imshow(\"mask\",mask)\n",
    "    \n",
    "    part1=cv2.bitwise_and(back,back,mask=mask)\n",
    "    cv2.imshow(\"masked\",part1)\n",
    "    \n",
    "    mask=cv2.bitwise_not(mask)\n",
    "    \n",
    "    part2=cv2.bitwise_and(frame,frame,mask=mask)\n",
    "    \n",
    "    cv2.imshow(\"cloak\",part1+part2)\n",
    "        \n",
    "    \n",
    "    if cv2.waitKey(10) ==ord('q'):\n",
    "        break\n",
    "            \n",
    "        \n",
    "        \n",
    "cap.release()\n",
    "cv2.destroyAllWindows()        \n",
    "        "
   ]
  },
  {
   "cell_type": "code",
   "execution_count": null,
   "metadata": {},
   "outputs": [],
   "source": []
  }
 ],
 "metadata": {
  "kernelspec": {
   "display_name": "Python 3",
   "language": "python",
   "name": "python3"
  },
  "language_info": {
   "codemirror_mode": {
    "name": "ipython",
    "version": 3
   },
   "file_extension": ".py",
   "mimetype": "text/x-python",
   "name": "python",
   "nbconvert_exporter": "python",
   "pygments_lexer": "ipython3",
   "version": "3.8.5"
  }
 },
 "nbformat": 4,
 "nbformat_minor": 4
}
